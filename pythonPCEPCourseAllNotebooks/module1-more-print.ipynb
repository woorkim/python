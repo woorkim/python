{
 "cells": [
  {
   "cell_type": "code",
   "execution_count": 4,
   "id": "b2aa3d9b",
   "metadata": {
    "scrolled": false
   },
   "outputs": [
    {
     "ename": "NameError",
     "evalue": "name 'prnt' is not defined",
     "output_type": "error",
     "traceback": [
      "\u001b[0;31m---------------------------------------------------------------------------\u001b[0m",
      "\u001b[0;31mNameError\u001b[0m                                 Traceback (most recent call last)",
      "Cell \u001b[0;32mIn[4], line 1\u001b[0m\n\u001b[0;32m----> 1\u001b[0m prnt(\u001b[38;5;124m'\u001b[39m\u001b[38;5;124mhello\u001b[39m\u001b[38;5;124m'\u001b[39m)\n",
      "\u001b[0;31mNameError\u001b[0m: name 'prnt' is not defined"
     ]
    }
   ],
   "source": [
    "prnt('hello')"
   ]
  },
  {
   "cell_type": "code",
   "execution_count": 5,
   "id": "f872a906",
   "metadata": {
    "scrolled": false
   },
   "outputs": [
    {
     "name": "stdout",
     "output_type": "stream",
     "text": [
      "hello\n"
     ]
    }
   ],
   "source": [
    "print('hello')"
   ]
  },
  {
   "cell_type": "code",
   "execution_count": 13,
   "id": "bf2ab7d3",
   "metadata": {
    "scrolled": true
   },
   "outputs": [
    {
     "name": "stdout",
     "output_type": "stream",
     "text": [
      "I'm studying python\n"
     ]
    }
   ],
   "source": [
    "print('I\\'m studying python')"
   ]
  },
  {
   "cell_type": "code",
   "execution_count": 15,
   "id": "728d8f2d",
   "metadata": {
    "scrolled": false
   },
   "outputs": [
    {
     "name": "stdout",
     "output_type": "stream",
     "text": [
      "I'm studying python\n",
      "and having fun\n"
     ]
    }
   ],
   "source": [
    "print('I\\'m studying python')\n",
    "print('and having fun')"
   ]
  },
  {
   "cell_type": "code",
   "execution_count": 19,
   "id": "3660507e",
   "metadata": {},
   "outputs": [
    {
     "name": "stdout",
     "output_type": "stream",
     "text": [
      "I'm studying python and having fun!\n"
     ]
    }
   ],
   "source": [
    "print('I\\'m studying python','and having fun!')"
   ]
  },
  {
   "cell_type": "code",
   "execution_count": 21,
   "id": "2b2a21f1",
   "metadata": {},
   "outputs": [
    {
     "name": "stdout",
     "output_type": "stream",
     "text": [
      "I'm studying\n",
      "Python!\n"
     ]
    }
   ],
   "source": [
    "print('I\\'m studying\\nPython!')"
   ]
  }
 ],
 "metadata": {
  "kernelspec": {
   "display_name": "Python 3 (ipykernel)",
   "language": "python",
   "name": "python3"
  },
  "language_info": {
   "codemirror_mode": {
    "name": "ipython",
    "version": 3
   },
   "file_extension": ".py",
   "mimetype": "text/x-python",
   "name": "python",
   "nbconvert_exporter": "python",
   "pygments_lexer": "ipython3",
   "version": "3.11.5"
  }
 },
 "nbformat": 4,
 "nbformat_minor": 5
}
