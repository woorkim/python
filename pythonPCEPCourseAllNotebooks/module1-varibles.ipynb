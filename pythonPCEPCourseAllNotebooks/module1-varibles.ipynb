{
 "cells": [
  {
   "cell_type": "code",
   "execution_count": 4,
   "id": "df29592c",
   "metadata": {
    "scrolled": true
   },
   "outputs": [
    {
     "name": "stdout",
     "output_type": "stream",
     "text": [
      "Hello, friend!\n",
      "Hi, everybody!\n",
      "Hi, everybody!\n"
     ]
    }
   ],
   "source": [
    "greeting = \"Hello, friend!\"\n",
    "print(greeting)\n",
    "greeting1 = 'Hi, everybody!'\n",
    "print(greeting1)\n",
    "greeting = 'Hi, everybody!'\n",
    "print(greeting)"
   ]
  },
  {
   "cell_type": "code",
   "execution_count": 5,
   "id": "dbf2454b",
   "metadata": {
    "scrolled": true
   },
   "outputs": [
    {
     "ename": "NameError",
     "evalue": "name 'new_greeting' is not defined",
     "output_type": "error",
     "traceback": [
      "\u001b[0;31m---------------------------------------------------------------------------\u001b[0m",
      "\u001b[0;31mNameError\u001b[0m                                 Traceback (most recent call last)",
      "Cell \u001b[0;32mIn[5], line 1\u001b[0m\n\u001b[0;32m----> 1\u001b[0m \u001b[38;5;28mprint\u001b[39m(new_greeting)\n\u001b[1;32m      2\u001b[0m new_greeting \u001b[38;5;241m=\u001b[39m \u001b[38;5;124m'\u001b[39m\u001b[38;5;124mCheers\u001b[39m\u001b[38;5;124m'\u001b[39m\n",
      "\u001b[0;31mNameError\u001b[0m: name 'new_greeting' is not defined"
     ]
    }
   ],
   "source": [
    "print(new_greeting)\n",
    "new_greeting = 'Cheers'"
   ]
  },
  {
   "cell_type": "code",
   "execution_count": 6,
   "id": "8935812f",
   "metadata": {
    "scrolled": true
   },
   "outputs": [
    {
     "name": "stderr",
     "output_type": "stream",
     "text": [
      "<>:4: SyntaxWarning: invalid decimal literal\n",
      "<>:4: SyntaxWarning: invalid decimal literal\n",
      "/var/folders/tm/gmzlq7812kgb2_j87v9mn4nw0000gp/T/ipykernel_64219/2056522220.py:4: SyntaxWarning: invalid decimal literal\n",
      "  21incorrect\n"
     ]
    },
    {
     "ename": "SyntaxError",
     "evalue": "invalid syntax (2056522220.py, line 4)",
     "output_type": "error",
     "traceback": [
      "\u001b[0;36m  Cell \u001b[0;32mIn[6], line 4\u001b[0;36m\u001b[0m\n\u001b[0;31m    21incorrect\u001b[0m\n\u001b[0m      ^\u001b[0m\n\u001b[0;31mSyntaxError\u001b[0m\u001b[0;31m:\u001b[0m invalid syntax\n"
     ]
    }
   ],
   "source": [
    "_correctvariables\n",
    "correctvariables\n",
    "correctvariable21\n",
    "21incorrect"
   ]
  },
  {
   "cell_type": "code",
   "execution_count": null,
   "id": "3ab448e0",
   "metadata": {},
   "outputs": [],
   "source": [
    "greeting\n",
    "Greeting"
   ]
  },
  {
   "cell_type": "code",
   "execution_count": 7,
   "id": "29e0638e",
   "metadata": {},
   "outputs": [
    {
     "ename": "SyntaxError",
     "evalue": "invalid syntax (2721849276.py, line 1)",
     "output_type": "error",
     "traceback": [
      "\u001b[0;36m  Cell \u001b[0;32mIn[7], line 1\u001b[0;36m\u001b[0m\n\u001b[0;31m    from = 'aa'\u001b[0m\n\u001b[0m         ^\u001b[0m\n\u001b[0;31mSyntaxError\u001b[0m\u001b[0;31m:\u001b[0m invalid syntax\n"
     ]
    }
   ],
   "source": [
    "from = 'aa'"
   ]
  },
  {
   "cell_type": "code",
   "execution_count": null,
   "id": "82511943",
   "metadata": {},
   "outputs": [],
   "source": []
  }
 ],
 "metadata": {
  "kernelspec": {
   "display_name": "Python 3 (ipykernel)",
   "language": "python",
   "name": "python3"
  },
  "language_info": {
   "codemirror_mode": {
    "name": "ipython",
    "version": 3
   },
   "file_extension": ".py",
   "mimetype": "text/x-python",
   "name": "python",
   "nbconvert_exporter": "python",
   "pygments_lexer": "ipython3",
   "version": "3.11.5"
  }
 },
 "nbformat": 4,
 "nbformat_minor": 5
}
