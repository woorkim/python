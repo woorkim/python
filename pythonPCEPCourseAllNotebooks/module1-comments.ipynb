{
 "cells": [
  {
   "cell_type": "code",
   "execution_count": 2,
   "id": "ac0eb85b",
   "metadata": {},
   "outputs": [
    {
     "name": "stdout",
     "output_type": "stream",
     "text": [
      "sample\n"
     ]
    }
   ],
   "source": [
    "print('sample') #example of comment"
   ]
  },
  {
   "cell_type": "code",
   "execution_count": 3,
   "id": "8ca0e93a",
   "metadata": {},
   "outputs": [],
   "source": [
    "#example of all-line comment"
   ]
  },
  {
   "cell_type": "code",
   "execution_count": 4,
   "id": "50c23d93",
   "metadata": {},
   "outputs": [],
   "source": [
    "# note> this vartiables are string, not integer,numbers!\n",
    "var1 = '23'\n",
    "var2 = '33'"
   ]
  },
  {
   "cell_type": "code",
   "execution_count": null,
   "id": "312c299f",
   "metadata": {},
   "outputs": [],
   "source": [
    "print('hello')\n"
   ]
  }
 ],
 "metadata": {
  "kernelspec": {
   "display_name": "Python 3 (ipykernel)",
   "language": "python",
   "name": "python3"
  },
  "language_info": {
   "codemirror_mode": {
    "name": "ipython",
    "version": 3
   },
   "file_extension": ".py",
   "mimetype": "text/x-python",
   "name": "python",
   "nbconvert_exporter": "python",
   "pygments_lexer": "ipython3",
   "version": "3.11.5"
  }
 },
 "nbformat": 4,
 "nbformat_minor": 5
}
