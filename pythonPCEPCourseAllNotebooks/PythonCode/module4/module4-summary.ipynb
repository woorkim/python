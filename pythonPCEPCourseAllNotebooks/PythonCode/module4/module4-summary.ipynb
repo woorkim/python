{
 "cells": [
  {
   "cell_type": "code",
   "execution_count": 15,
   "metadata": {},
   "outputs": [
    {
     "name": "stdout",
     "output_type": "stream",
     "text": [
      "l\n"
     ]
    }
   ],
   "source": [
    "# string indexing\n",
    "message = 'hello!'\n",
    "print(message[2]) # print single character"
   ]
  },
  {
   "cell_type": "code",
   "execution_count": 42,
   "metadata": {},
   "outputs": [
    {
     "name": "stdout",
     "output_type": "stream",
     "text": [
      "2\n",
      "[2, 4]\n",
      "5\n"
     ]
    }
   ],
   "source": [
    "# simple lists\n",
    "vector = [2, 4, 8, 5, 7]\n",
    "print(vector[0]) # returns 2\n",
    "print(vector[0:2]) # returns [2, 4]\n",
    "print(len(vector))"
   ]
  },
  {
   "cell_type": "code",
   "execution_count": 43,
   "metadata": {},
   "outputs": [
    {
     "name": "stdout",
     "output_type": "stream",
     "text": [
      "2\n",
      "0\n"
     ]
    },
    {
     "ename": "ValueError",
     "evalue": "11 is not in list",
     "output_type": "error",
     "traceback": [
      "\u001b[1;31m---------------------------------------------------------------------------\u001b[0m",
      "\u001b[1;31mValueError\u001b[0m                                Traceback (most recent call last)",
      "\u001b[1;32m<ipython-input-43-66095fea34e2>\u001b[0m in \u001b[0;36m<module>\u001b[1;34m()\u001b[0m\n\u001b[0;32m      3\u001b[0m \u001b[0mprint\u001b[0m\u001b[1;33m(\u001b[0m\u001b[0mvector\u001b[0m\u001b[1;33m.\u001b[0m\u001b[0mindex\u001b[0m\u001b[1;33m(\u001b[0m\u001b[1;36m8\u001b[0m\u001b[1;33m)\u001b[0m\u001b[1;33m)\u001b[0m\u001b[1;33m\u001b[0m\u001b[0m\n\u001b[0;32m      4\u001b[0m \u001b[0mprint\u001b[0m\u001b[1;33m(\u001b[0m\u001b[0mvector\u001b[0m\u001b[1;33m.\u001b[0m\u001b[0mindex\u001b[0m\u001b[1;33m(\u001b[0m\u001b[1;36m2\u001b[0m\u001b[1;33m)\u001b[0m\u001b[1;33m)\u001b[0m\u001b[1;33m\u001b[0m\u001b[0m\n\u001b[1;32m----> 5\u001b[1;33m \u001b[0mprint\u001b[0m\u001b[1;33m(\u001b[0m\u001b[0mvector\u001b[0m\u001b[1;33m.\u001b[0m\u001b[0mindex\u001b[0m\u001b[1;33m(\u001b[0m\u001b[1;36m11\u001b[0m\u001b[1;33m)\u001b[0m\u001b[1;33m)\u001b[0m\u001b[1;33m\u001b[0m\u001b[0m\n\u001b[0m",
      "\u001b[1;31mValueError\u001b[0m: 11 is not in list"
     ]
    }
   ],
   "source": [
    "# list index method\n",
    "vector = [2, 4, 8, 5, 2, 7]\n",
    "print(vector.index(8))\n",
    "print(vector.index(2))\n",
    "print(vector.index(11))"
   ]
  },
  {
   "cell_type": "code",
   "execution_count": 3,
   "metadata": {},
   "outputs": [
    {
     "name": "stdout",
     "output_type": "stream",
     "text": [
      "[2, 2, 4, 5, 7, 8]\n",
      "2\n",
      "4\n",
      "5\n",
      "7\n",
      "2\n"
     ]
    }
   ],
   "source": [
    "# lists in detail\n",
    "vector = [2, 4, 8, 5, 7]\n",
    "vector.append(2)\n",
    "print(sorted(vector))"
   ]
  },
  {
   "cell_type": "code",
   "execution_count": 17,
   "metadata": {},
   "outputs": [
    {
     "name": "stdout",
     "output_type": "stream",
     "text": [
      "2\n",
      "4\n",
      "5\n",
      "7\n"
     ]
    }
   ],
   "source": [
    "# delete and iterate lists\n",
    "del vector[2]\n",
    "for x in vector:\n",
    "    print(x)"
   ]
  },
  {
   "cell_type": "code",
   "execution_count": 18,
   "metadata": {},
   "outputs": [],
   "source": [
    "# list comprehension and copying lists\n",
    "new_list = [i for i in range(10)]\n",
    "list_copy_1 = new_list # the same list shared\n",
    "list_copy_2 = new_list[:] # new independent list"
   ]
  },
  {
   "cell_type": "code",
   "execution_count": 20,
   "metadata": {},
   "outputs": [],
   "source": [
    "# matrices and cubes\n",
    "sample_matrix = [[1, 2], [3, 4]]\n",
    "sample_cube = [\n",
    "                [[1], [2], [3]], \n",
    "                [[4], [5], [6]], \n",
    "                [[7], [8], [9]]\n",
    "              ]"
   ]
  },
  {
   "cell_type": "code",
   "execution_count": 21,
   "metadata": {},
   "outputs": [
    {
     "name": "stdout",
     "output_type": "stream",
     "text": [
      "teacher\n",
      "('John', 26)\n"
     ]
    }
   ],
   "source": [
    "# tuples\n",
    "sample_tuple = ('John', 26, 'teacher')\n",
    "print(sample_tuple[2])\n",
    "print(sample_tuple[0:2])"
   ]
  },
  {
   "cell_type": "code",
   "execution_count": 22,
   "metadata": {},
   "outputs": [],
   "source": [
    "# tuples in lists\n",
    "capitals = [('London', 'UK', 8.98), \n",
    "            ('Canberra', 'Australia', 0.4), \n",
    "            ('Algiers', 'Algeria', 3.9)]"
   ]
  },
  {
   "cell_type": "code",
   "execution_count": 23,
   "metadata": {},
   "outputs": [],
   "source": [
    "# lists in tuples\n",
    "user_data = ('John', 'American', 1964, \n",
    "             [77.0, 78.2, 77.5, 79.3])"
   ]
  },
  {
   "cell_type": "code",
   "execution_count": 25,
   "metadata": {},
   "outputs": [],
   "source": [
    "# sample dict\n",
    "participants = {\n",
    "    'England': ['Adam Smith', 'John English'],\n",
    "    'Spain': ['Juan Lopez', 'David Garcia'],\n",
    "    'Poland': ['Tomasz Myk', 'Alicja Domanska']\n",
    "}"
   ]
  },
  {
   "cell_type": "code",
   "execution_count": 29,
   "metadata": {},
   "outputs": [
    {
     "name": "stdout",
     "output_type": "stream",
     "text": [
      "Poles are participating!\n"
     ]
    }
   ],
   "source": [
    "# dict operations\n",
    "participants['Germany'] = ['Peter Schmidt']\n",
    "del participants['Germany']\n",
    "if 'Poland' in participants:\n",
    "    print('Poles are participating!')"
   ]
  },
  {
   "cell_type": "code",
   "execution_count": 33,
   "metadata": {},
   "outputs": [
    {
     "name": "stdout",
     "output_type": "stream",
     "text": [
      "England\n",
      "Spain\n",
      "Poland\n"
     ]
    }
   ],
   "source": [
    "# dict key iteration \n",
    "for country in participants.keys():\n",
    "    print(country)"
   ]
  },
  {
   "cell_type": "code",
   "execution_count": 34,
   "metadata": {
    "scrolled": true
   },
   "outputs": [
    {
     "name": "stdout",
     "output_type": "stream",
     "text": [
      "['Adam Smith', 'John English']\n",
      "['Juan Lopez', 'David Garcia']\n",
      "['Tomasz Myk', 'Alicja Domanska']\n"
     ]
    }
   ],
   "source": [
    "# dict value iteration \n",
    "for team in participants.values():\n",
    "    print(team)"
   ]
  },
  {
   "cell_type": "code",
   "execution_count": 35,
   "metadata": {},
   "outputs": [
    {
     "name": "stdout",
     "output_type": "stream",
     "text": [
      "England : ['Adam Smith', 'John English']\n",
      "Spain : ['Juan Lopez', 'David Garcia']\n",
      "Poland : ['Tomasz Myk', 'Alicja Domanska']\n"
     ]
    }
   ],
   "source": [
    "# dict key and value iteration \n",
    "for country, team in participants.items():\n",
    "    print(country, ':', team)"
   ]
  },
  {
   "cell_type": "code",
   "execution_count": 39,
   "metadata": {},
   "outputs": [
    {
     "name": "stdout",
     "output_type": "stream",
     "text": [
      "I'm Adrian\n",
      "Welcome to my course!\n"
     ]
    }
   ],
   "source": [
    "# escape character\n",
    "message = 'I\\'m Adrian\\nWelcome to my course!'\n",
    "print(message)"
   ]
  },
  {
   "cell_type": "code",
   "execution_count": 40,
   "metadata": {},
   "outputs": [
    {
     "name": "stdout",
     "output_type": "stream",
     "text": [
      "\n",
      "==========================\n",
      "=== SECRET NUMBER GAME ===\n",
      "==========================\n",
      "\n"
     ]
    }
   ],
   "source": [
    "# multiline string\n",
    "print('''\n",
    "==========================\n",
    "=== SECRET NUMBER GAME ===\n",
    "==========================\n",
    "''')"
   ]
  },
  {
   "cell_type": "code",
   "execution_count": 41,
   "metadata": {},
   "outputs": [
    {
     "name": "stdout",
     "output_type": "stream",
     "text": [
      "Provide a number: hello\n",
      "Not a number!!\n"
     ]
    }
   ],
   "source": [
    "# string methods\n",
    "number = input('Provide a number: ')\n",
    "if not number.isnumeric():\n",
    "    print('Not a number!!')"
   ]
  }
 ],
 "metadata": {
  "kernelspec": {
   "display_name": "Python 3",
   "language": "python",
   "name": "python3"
  },
  "language_info": {
   "codemirror_mode": {
    "name": "ipython",
    "version": 3
   },
   "file_extension": ".py",
   "mimetype": "text/x-python",
   "name": "python",
   "nbconvert_exporter": "python",
   "pygments_lexer": "ipython3",
   "version": "3.6.5"
  }
 },
 "nbformat": 4,
 "nbformat_minor": 2
}
