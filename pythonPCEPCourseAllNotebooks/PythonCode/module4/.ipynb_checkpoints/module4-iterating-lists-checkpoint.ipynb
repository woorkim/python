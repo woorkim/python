{
 "cells": [
  {
   "cell_type": "code",
   "execution_count": 1,
   "metadata": {},
   "outputs": [
    {
     "name": "stdout",
     "output_type": "stream",
     "text": [
      "Current city: New York City\n",
      "Current city: Los Angeles\n",
      "Current city: Chicago\n",
      "Current city: Houston\n",
      "Current city: Phoenix\n"
     ]
    }
   ],
   "source": [
    "top_cities = ['New York City', 'Los Angeles', 'Chicago', 'Houston', 'Phoenix']\n",
    "for city in top_cities:\n",
    "    print('Current city:', city)\n"
   ]
  },
  {
   "cell_type": "code",
   "execution_count": 2,
   "metadata": {},
   "outputs": [
    {
     "name": "stdout",
     "output_type": "stream",
     "text": [
      "Current index: 0 | Current city: New York City\n",
      "Current index: 1 | Current city: Los Angeles\n",
      "Current index: 2 | Current city: Chicago\n",
      "Current index: 3 | Current city: Houston\n",
      "Current index: 4 | Current city: Phoenix\n"
     ]
    }
   ],
   "source": [
    "top_cities = ['New York City', 'Los Angeles', 'Chicago', 'Houston', 'Phoenix']\n",
    "for city_index in range(len(top_cities)):\n",
    "    print('Current index:', city_index, '| Current city:', top_cities[city_index], )"
   ]
  },
  {
   "cell_type": "code",
   "execution_count": 3,
   "metadata": {},
   "outputs": [
    {
     "name": "stdout",
     "output_type": "stream",
     "text": [
      "Money spent: 158.1\n"
     ]
    }
   ],
   "source": [
    "spendings = [32.45, 18.65, 23.45, 78.32, 5.23]\n",
    "sum = 0.0\n",
    "for spending in spendings:\n",
    "    sum += spending\n",
    "print('Money spent:', sum)"
   ]
  },
  {
   "cell_type": "code",
   "execution_count": null,
   "metadata": {},
   "outputs": [],
   "source": []
  }
 ],
 "metadata": {
  "kernelspec": {
   "display_name": "Python 3",
   "language": "python",
   "name": "python3"
  },
  "language_info": {
   "codemirror_mode": {
    "name": "ipython",
    "version": 3
   },
   "file_extension": ".py",
   "mimetype": "text/x-python",
   "name": "python",
   "nbconvert_exporter": "python",
   "pygments_lexer": "ipython3",
   "version": "3.6.5"
  }
 },
 "nbformat": 4,
 "nbformat_minor": 2
}
