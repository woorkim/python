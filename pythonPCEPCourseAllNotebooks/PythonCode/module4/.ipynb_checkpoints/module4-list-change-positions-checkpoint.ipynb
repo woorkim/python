{
 "cells": [
  {
   "cell_type": "code",
   "execution_count": 1,
   "metadata": {},
   "outputs": [
    {
     "name": "stdout",
     "output_type": "stream",
     "text": [
      "Enter first number: 10\n",
      "Enter second number: 20\n",
      "Before swapping: 10 20\n",
      "After swapping: 20 20\n"
     ]
    }
   ],
   "source": [
    "first = input('Enter first number: ')\n",
    "second = input('Enter second number: ')\n",
    "print('Before swapping:', first, second)\n",
    "first = second\n",
    "second = first\n",
    "print('After swapping:', first, second)"
   ]
  },
  {
   "cell_type": "code",
   "execution_count": 2,
   "metadata": {},
   "outputs": [
    {
     "name": "stdout",
     "output_type": "stream",
     "text": [
      "Enter first number: 10\n",
      "Enter second number: 20\n",
      "Before swapping: 10 20\n",
      "After swapping: 20 10\n"
     ]
    }
   ],
   "source": [
    "first = input('Enter first number: ')\n",
    "second = input('Enter second number: ')\n",
    "print('Before swapping:', first, second)\n",
    "temporary = first\n",
    "first = second\n",
    "second = temporary\n",
    "print('After swapping:', first, second)"
   ]
  },
  {
   "cell_type": "code",
   "execution_count": 3,
   "metadata": {},
   "outputs": [
    {
     "name": "stdout",
     "output_type": "stream",
     "text": [
      "Enter first number: 10\n",
      "Enter second number: 20\n",
      "Before swapping: 10 20\n",
      "After swapping: 20 10\n"
     ]
    }
   ],
   "source": [
    "first = input('Enter first number: ')\n",
    "second = input('Enter second number: ')\n",
    "print('Before swapping:', first, second)\n",
    "first, second = second, first\n",
    "print('After swapping:', first, second)"
   ]
  },
  {
   "cell_type": "code",
   "execution_count": 4,
   "metadata": {},
   "outputs": [
    {
     "name": "stdout",
     "output_type": "stream",
     "text": [
      "['Phoenix', 'Los Angeles', 'Chicago', 'Houston', 'New York City']\n"
     ]
    }
   ],
   "source": [
    "top_cities = ['New York City', 'Los Angeles', 'Chicago', 'Houston', 'Phoenix']\n",
    "top_cities[0], top_cities[4] = top_cities[4], top_cities[0]\n",
    "print(top_cities)\n"
   ]
  },
  {
   "cell_type": "code",
   "execution_count": 5,
   "metadata": {},
   "outputs": [
    {
     "name": "stdout",
     "output_type": "stream",
     "text": [
      "['Chicago', 'Houston', 'Los Angeles', 'New York City', 'Phoenix']\n"
     ]
    }
   ],
   "source": [
    "top_cities = ['New York City', 'Los Angeles', 'Chicago', 'Houston', 'Phoenix']\n",
    "top_cities.sort()\n",
    "print(top_cities)"
   ]
  },
  {
   "cell_type": "code",
   "execution_count": 6,
   "metadata": {},
   "outputs": [
    {
     "name": "stdout",
     "output_type": "stream",
     "text": [
      "[-3, 0, 2, 4, 5]\n"
     ]
    }
   ],
   "source": [
    "random_numbers = [2, 5, 0, -3, 4]\n",
    "random_numbers.sort()\n",
    "print(random_numbers)"
   ]
  },
  {
   "cell_type": "code",
   "execution_count": 7,
   "metadata": {},
   "outputs": [
    {
     "name": "stdout",
     "output_type": "stream",
     "text": [
      "[5, 4, 2, 0, -3]\n"
     ]
    }
   ],
   "source": [
    "random_numbers = [2, 5, 0, -3, 4]\n",
    "random_numbers.sort(reverse=True)\n",
    "print(random_numbers)"
   ]
  },
  {
   "cell_type": "code",
   "execution_count": 8,
   "metadata": {},
   "outputs": [
    {
     "name": "stdout",
     "output_type": "stream",
     "text": [
      "['Chicago', 'Houston', 'Los Angeles', 'New York City', 'Phoenix']\n",
      "['New York City', 'Los Angeles', 'Chicago', 'Houston', 'Phoenix']\n"
     ]
    }
   ],
   "source": [
    "top_cities = ['New York City', 'Los Angeles', 'Chicago', 'Houston', 'Phoenix']\n",
    "print(sorted(top_cities))\n",
    "print(top_cities)"
   ]
  },
  {
   "cell_type": "code",
   "execution_count": null,
   "metadata": {},
   "outputs": [],
   "source": []
  }
 ],
 "metadata": {
  "kernelspec": {
   "display_name": "Python 3",
   "language": "python",
   "name": "python3"
  },
  "language_info": {
   "codemirror_mode": {
    "name": "ipython",
    "version": 3
   },
   "file_extension": ".py",
   "mimetype": "text/x-python",
   "name": "python",
   "nbconvert_exporter": "python",
   "pygments_lexer": "ipython3",
   "version": "3.6.5"
  }
 },
 "nbformat": 4,
 "nbformat_minor": 2
}
