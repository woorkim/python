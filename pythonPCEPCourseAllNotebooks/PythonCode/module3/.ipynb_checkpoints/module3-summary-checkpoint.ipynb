{
 "cells": [
  {
   "cell_type": "code",
   "execution_count": null,
   "metadata": {},
   "outputs": [],
   "source": [
    "# if statements\n",
    "if condition:\n",
    "    do_one()\n",
    "    do_two()\n",
    "elif condition:\n",
    "    do_three()\n",
    "else:\n",
    "    do_four()"
   ]
  },
  {
   "cell_type": "code",
   "execution_count": null,
   "metadata": {},
   "outputs": [],
   "source": [
    "# multiple conditional statements\n",
    "if a > 3 and b == 2:\n",
    "    print('Eureka!')"
   ]
  },
  {
   "cell_type": "code",
   "execution_count": null,
   "metadata": {},
   "outputs": [],
   "source": [
    "# pass instruction\n",
    "if a > 3:\n",
    "    pass"
   ]
  },
  {
   "cell_type": "code",
   "execution_count": null,
   "metadata": {},
   "outputs": [],
   "source": [
    "# while loops\n",
    "counter = 0\n",
    "while counter < 5:\n",
    "    print(counter)\n",
    "    counter += 1"
   ]
  },
  {
   "cell_type": "code",
   "execution_count": null,
   "metadata": {},
   "outputs": [],
   "source": [
    "# for loops\n",
    "for i in range(5):\n",
    "    print(i)"
   ]
  },
  {
   "cell_type": "code",
   "execution_count": null,
   "metadata": {},
   "outputs": [],
   "source": [
    "# loops with else\n",
    "for i in range(5):\n",
    "    print(i)\n",
    "else:\n",
    "    print('Surprise!')"
   ]
  },
  {
   "cell_type": "code",
   "execution_count": null,
   "metadata": {},
   "outputs": [],
   "source": [
    "# nested loops \n",
    "for i in range(10):\n",
    "    for j in range(10):\n",
    "        print(i * j)\n",
    "\n",
    "\n",
    "# nested if statements\n",
    "if a > 5:\n",
    "    if b == 3:\n",
    "        print('correct')\n",
    "    else:\n",
    "        print('wrong b')\n",
    "else:\n",
    "    print('wrong a')"
   ]
  },
  {
   "cell_type": "code",
   "execution_count": null,
   "metadata": {},
   "outputs": [],
   "source": [
    "# continue and break\n",
    "while True:\n",
    "    name = input('Give me your name. PASS to do nothing, EXIT to finish.')\n",
    "    if name == 'PASS':\n",
    "        continue\n",
    "    if name == 'EXIT':\n",
    "        break\n",
    "    print(name)"
   ]
  }
 ],
 "metadata": {
  "kernelspec": {
   "display_name": "Python 3",
   "language": "python",
   "name": "python3"
  },
  "language_info": {
   "codemirror_mode": {
    "name": "ipython",
    "version": 3
   },
   "file_extension": ".py",
   "mimetype": "text/x-python",
   "name": "python",
   "nbconvert_exporter": "python",
   "pygments_lexer": "ipython3",
   "version": "3.6.5"
  }
 },
 "nbformat": 4,
 "nbformat_minor": 2
}
