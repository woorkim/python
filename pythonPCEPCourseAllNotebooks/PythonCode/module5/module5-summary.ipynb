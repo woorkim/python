{
 "cells": [
  {
   "cell_type": "code",
   "execution_count": 10,
   "metadata": {},
   "outputs": [
    {
     "name": "stdout",
     "output_type": "stream",
     "text": [
      "Hello world\n"
     ]
    }
   ],
   "source": [
    "# defining and invoking your own functions and generators\n",
    "def my_function_name():\n",
    "    print('Hello world')\n",
    "\n",
    "my_function_name()"
   ]
  },
  {
   "cell_type": "code",
   "execution_count": 2,
   "metadata": {},
   "outputs": [],
   "source": [
    "# return and yield keywords, returning results,\n",
    "def standard_function():\n",
    "    return 'sample value'\n",
    "\n",
    "def sample_generator():\n",
    "    for i in range(1, 101):\n",
    "        yield i"
   ]
  },
  {
   "cell_type": "code",
   "execution_count": 3,
   "metadata": {},
   "outputs": [
    {
     "name": "stdout",
     "output_type": "stream",
     "text": [
      "There is no director\n"
     ]
    }
   ],
   "source": [
    "# the None keyword,\n",
    "director_name = None\n",
    "if director_name == None:\n",
    "    print('There is no director')"
   ]
  },
  {
   "cell_type": "code",
   "execution_count": 4,
   "metadata": {},
   "outputs": [],
   "source": [
    "# recursion\n",
    "def factorial(number):\n",
    "    if number == 1:\n",
    "        return 1\n",
    "    else:\n",
    "        return number * factorial(number - 1)"
   ]
  },
  {
   "cell_type": "code",
   "execution_count": 5,
   "metadata": {},
   "outputs": [
    {
     "name": "stdout",
     "output_type": "stream",
     "text": [
      "sample_arg\n"
     ]
    }
   ],
   "source": [
    "# parameters vs. arguments,\n",
    "def sample_function(sample_param):\n",
    "    print(sample_param)\n",
    "\n",
    "sample_function('sample_arg')"
   ]
  },
  {
   "cell_type": "code",
   "execution_count": 6,
   "metadata": {},
   "outputs": [
    {
     "name": "stdout",
     "output_type": "stream",
     "text": [
      "User Info: Maria 42 F\n"
     ]
    }
   ],
   "source": [
    "# positional keyword and mixed argument passing,\n",
    "def print_user(name, age, gender):\n",
    "    print('User Info:', name, age, gender)\n",
    "\n",
    "print_user('Maria', gender='F', age=42)"
   ]
  },
  {
   "cell_type": "code",
   "execution_count": 7,
   "metadata": {},
   "outputs": [
    {
     "name": "stdout",
     "output_type": "stream",
     "text": [
      "User Info: Adam 30 M\n"
     ]
    }
   ],
   "source": [
    "# default parameter values\n",
    "def print_user(name, age=30, gender='M'):\n",
    "    print('User Info:', name, age, gender)\n",
    "    \n",
    "print_user('Adam')"
   ]
  },
  {
   "cell_type": "code",
   "execution_count": 11,
   "metadata": {},
   "outputs": [
    {
     "name": "stdout",
     "output_type": "stream",
     "text": [
      "[1, 2, 3, 4, 5, 6, 7, 8, 9, 10, 11, 12, 13, 14, 15, 16, 17, 18, 19, 20]\n"
     ]
    }
   ],
   "source": [
    "# converting generator objects into lists using the list() function\n",
    "def sample_generator():\n",
    "    for i in range(1, 21):\n",
    "        yield i\n",
    "list_numbers = list(sample_generator())\n",
    "print(list_numbers)"
   ]
  },
  {
   "cell_type": "code",
   "execution_count": 9,
   "metadata": {},
   "outputs": [
    {
     "name": "stdout",
     "output_type": "stream",
     "text": [
      "Surprise!\n",
      "New Surprise!\n",
      "New Surprise!\n"
     ]
    }
   ],
   "source": [
    "# name scopes, name hiding (shadowing), the global keyword\n",
    "def show_truth():\n",
    "    global mysterious_var\n",
    "    mysterious_var = 'New Surprise!'\n",
    "    print(mysterious_var)\n",
    "\n",
    "mysterious_var = 'Surprise!'\n",
    "print(mysterious_var)\n",
    "show_truth()\n",
    "print(mysterious_var)"
   ]
  },
  {
   "cell_type": "code",
   "execution_count": null,
   "metadata": {},
   "outputs": [],
   "source": []
  }
 ],
 "metadata": {
  "kernelspec": {
   "display_name": "Python 3",
   "language": "python",
   "name": "python3"
  },
  "language_info": {
   "codemirror_mode": {
    "name": "ipython",
    "version": 3
   },
   "file_extension": ".py",
   "mimetype": "text/x-python",
   "name": "python",
   "nbconvert_exporter": "python",
   "pygments_lexer": "ipython3",
   "version": "3.6.5"
  }
 },
 "nbformat": 4,
 "nbformat_minor": 2
}
