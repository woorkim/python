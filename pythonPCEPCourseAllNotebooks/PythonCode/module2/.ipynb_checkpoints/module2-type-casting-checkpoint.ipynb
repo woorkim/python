{
 "cells": [
  {
   "cell_type": "code",
   "execution_count": 7,
   "metadata": {},
   "outputs": [
    {
     "name": "stdout",
     "output_type": "stream",
     "text": [
      "Height converter: enter your height in cm: 182\n",
      "Your height in feet is: 5.971128608923885\n"
     ]
    }
   ],
   "source": [
    "height_cm = input('Height converter: enter your height in cm: ')\n",
    "float_height_cm = float(height_cm)\n",
    "print('Your height in feet is:', float_height_cm / 30.48 )"
   ]
  },
  {
   "cell_type": "code",
   "execution_count": 8,
   "metadata": {},
   "outputs": [
    {
     "name": "stdout",
     "output_type": "stream",
     "text": [
      "Height converter: enter your height in cm: 182\n",
      "Your height in feet is: 5.971128608923885\n"
     ]
    }
   ],
   "source": [
    "height_cm = float(input('Height converter: enter your height in cm: '))\n",
    "print('Your height in feet is:', height_cm / 30.48 )"
   ]
  },
  {
   "cell_type": "code",
   "execution_count": 9,
   "metadata": {},
   "outputs": [
    {
     "name": "stdout",
     "output_type": "stream",
     "text": [
      "What year were you born?1990\n",
      "In 2100, you will be 110 years old, provided you live this long!\n"
     ]
    }
   ],
   "source": [
    "year_born = int(input('What year were you born?'))\n",
    "print('In 2100, you will be', 2100 - year_born, 'years old, provided you live this long!')"
   ]
  },
  {
   "cell_type": "code",
   "execution_count": 10,
   "metadata": {},
   "outputs": [
    {
     "name": "stdout",
     "output_type": "stream",
     "text": [
      "Enter the temperature today in Celsius degrees: 20\n",
      "20 degrees Celsius equals 68.0 degrees Fahrenheit.\n"
     ]
    }
   ],
   "source": [
    "temp_c = input('Enter the temperature today in Celsius degrees: ')\n",
    "temp_f = float(temp_c) * 1.8 + 32\n",
    "temp_statement = str(temp_c) + ' degrees Celsius equals ' + str(temp_f) + ' degrees Fahrenheit.'\n",
    "print(temp_statement)"
   ]
  },
  {
   "cell_type": "code",
   "execution_count": null,
   "metadata": {},
   "outputs": [],
   "source": [
    "float()\n",
    "int()\n",
    "str()"
   ]
  }
 ],
 "metadata": {
  "kernelspec": {
   "display_name": "Python 3",
   "language": "python",
   "name": "python3"
  },
  "language_info": {
   "codemirror_mode": {
    "name": "ipython",
    "version": 3
   },
   "file_extension": ".py",
   "mimetype": "text/x-python",
   "name": "python",
   "nbconvert_exporter": "python",
   "pygments_lexer": "ipython3",
   "version": "3.6.5"
  }
 },
 "nbformat": 4,
 "nbformat_minor": 2
}
