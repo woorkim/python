{
 "cells": [
  {
   "cell_type": "code",
   "execution_count": 3,
   "id": "588b0f5e",
   "metadata": {},
   "outputs": [],
   "source": [
    "greeting = 'Hello, friend!'"
   ]
  },
  {
   "cell_type": "code",
   "execution_count": 2,
   "id": "22bc6e4c",
   "metadata": {},
   "outputs": [],
   "source": [
    "age = 35"
   ]
  },
  {
   "cell_type": "code",
   "execution_count": null,
   "id": "35640f60",
   "metadata": {},
   "outputs": [],
   "source": [
    "speed1 = 4.5 \n",
    "speed2 = 4.0 \n",
    "speed3 = 4.\n",
    "speed4 = 4"
   ]
  },
  {
   "cell_type": "code",
   "execution_count": null,
   "id": "7933742c",
   "metadata": {},
   "outputs": [],
   "source": [
    "am_i_ugly = True\n",
    "are_u_ugly = False"
   ]
  }
 ],
 "metadata": {
  "kernelspec": {
   "display_name": "Python 3 (ipykernel)",
   "language": "python",
   "name": "python3"
  },
  "language_info": {
   "codemirror_mode": {
    "name": "ipython",
    "version": 3
   },
   "file_extension": ".py",
   "mimetype": "text/x-python",
   "name": "python",
   "nbconvert_exporter": "python",
   "pygments_lexer": "ipython3",
   "version": "3.11.5"
  }
 },
 "nbformat": 4,
 "nbformat_minor": 5
}
